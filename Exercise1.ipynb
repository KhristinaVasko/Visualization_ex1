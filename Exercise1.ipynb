{
 "cells": [
  {
   "cell_type": "markdown",
   "id": "2115289c-5b17-43c7-b9e2-03e6bb80a758",
   "metadata": {
    "deletable": false,
    "editable": false,
    "nbgrader": {
     "cell_type": "markdown",
     "checksum": "2482100e32149d6d298ba6ec50877453",
     "grade": false,
     "grade_id": "cell-864a19de49349ef3",
     "locked": true,
     "schema_version": 3,
     "solution": false,
     "task": false
    }
   },
   "source": [
    "The goal of this exercise is to get into some first contact with Python, Pandas data frames, and the many opportunities how to quickly generate static charts from data frames. For the first exercise, load the provided CSV file, do some data cleaning, and check if your cleaning operation was successful using visualization.\n",
    "\n",
    "The main purpose of the notebook is to preprocess the CSV file for further visualization. The following steps have to be performed: \n",
    "\n",
    "1. Read the three CSV using Pandas. See the pandas.read_csv documentation to check how to parse the CSV correctly! Merge the two datasets player_data_per_36_min.csv and players.csv into one table. Add a team_name column to your new data frame based on the team_id column retrieving the name from the teams.csv dataset. You should now have a table that includes player info from players.csv, and players performance statistics from player_data_per_36_min.csv, and the team’s name from teams.csv. (3 points)\n",
    "2. Take care of missing values. Sci-kit learn provides different data imputation methods. Remove unusable rows or columns, if necessary.  Delete all observations for players who do not have a current team.\n",
    "(Hint: You may need to impute before you completely filter your dataframe. You need to make an educated judgment). (3 points)\n",
    "3. Create two new tables: one that groups rows based on player_id, another that groups rows based on team_id. (2 points)\n",
    "4. Visualize the data (twice). Every submitted notebook should contain at least two visualizations using at least two different Python visualization libraries. One visualization for each data set (players and teams). A list of the most wide-spread Python visualization libraries can be found in this article. You must concisely describe and explain each visualization and your decisions in a Markdown field. You will not receive the points for this task if you did not add a description/explanation. (max. 5 points per visualization)\n",
    "5. Save the resulting tables (players data, and aggregated teams data) as CSV. To be sure that the data is correctly saved, you can load it again. You will have to work with these table for the second exercise. (2 points)"
   ]
  },
  {
   "cell_type": "code",
   "execution_count": 2,
   "id": "8f7d8636-ae83-4b8f-8558-7bd5ead5c8bb",
   "metadata": {
    "revert": ""
   },
   "outputs": [],
   "source": [
    "import pandas as pd\n",
    "from sklearn.impute import SimpleImputer"
   ]
  },
  {
   "cell_type": "code",
   "execution_count": 3,
   "id": "6412e7f0-c970-40f7-b125-a814bdeda243",
   "metadata": {},
   "outputs": [],
   "source": [
    "players_df = pd.read_csv('data/players.csv')\n",
    "teams = pd.read_csv('data/teams.csv')\n",
    "player_data_df = pd.read_csv('data/player_data_per_36_min.csv')"
   ]
  },
  {
   "cell_type": "code",
   "execution_count": 4,
   "id": "1e5cb9c8-a9f1-40a1-a093-1e10049d0d30",
   "metadata": {},
   "outputs": [],
   "source": [
    "merged_df = pd.merge(players_df, player_data_df, how='inner', left_on='id', right_on='player_id', suffixes=('_players', '_player_data'))"
   ]
  },
  {
   "cell_type": "code",
   "execution_count": 5,
   "id": "0d011ba7-09b1-4a9a-9075-0430416dda63",
   "metadata": {},
   "outputs": [
    {
     "name": "stdout",
     "output_type": "stream",
     "text": [
      "<bound method NDFrame.head of        id_players             name                full_name position height  \\\n",
      "0               1   Alaa Abdelnaby           Alaa Abdelnaby      F-C   6-10   \n",
      "1               1   Alaa Abdelnaby           Alaa Abdelnaby      F-C   6-10   \n",
      "2               1   Alaa Abdelnaby           Alaa Abdelnaby      F-C   6-10   \n",
      "3               1   Alaa Abdelnaby           Alaa Abdelnaby      F-C   6-10   \n",
      "4               1   Alaa Abdelnaby           Alaa Abdelnaby      F-C   6-10   \n",
      "...           ...              ...                      ...      ...    ...   \n",
      "26669        4814    Marial Shayok            Marial Shayok        G    6-5   \n",
      "26670        4817  Jeremiah Martin          Jeremiah Martin       PG    6-3   \n",
      "26671        4818   William Howard           William Howard        F    6-8   \n",
      "26672        4819     Gabe Vincent   Gabriel Nnamdi Vincent       PG    6-3   \n",
      "26673        4820   Marques Bolden   Marques Terrell Bolden        C   6-11   \n",
      "\n",
      "       weight       birth_date          birth_place  retired  \\\n",
      "0       240.0     June 24 1968         Cairo, Egypt     True   \n",
      "1       240.0     June 24 1968         Cairo, Egypt     True   \n",
      "2       240.0     June 24 1968         Cairo, Egypt     True   \n",
      "3       240.0     June 24 1968         Cairo, Egypt     True   \n",
      "4       240.0     June 24 1968         Cairo, Egypt     True   \n",
      "...       ...              ...                  ...      ...   \n",
      "26669   196.0     July 26 1995       Ottawa, Canada    False   \n",
      "26670   184.0  January 19 1996   Memphis, Tennessee    False   \n",
      "26671   205.0  October 25 1993   Montbrison, France    False   \n",
      "26672   200.0     June 14 1996  Modesto, California    False   \n",
      "26673   245.0    April 17 1998        Dallas, Texas    False   \n",
      "\n",
      "                      player_url  ...    ftp  orb   drb   trb  ast   stl  blk  \\\n",
      "0      /players/a/abdelal01.html  ...  0.568  3.4   7.7  11.0  1.5   0.5  1.5   \n",
      "1      /players/a/abdelal01.html  ...  0.752  3.1   6.9  10.0  1.2   1.0  0.6   \n",
      "2      /players/a/abdelal01.html  ...  0.759  3.5   5.8   9.3  0.7   0.7  0.7   \n",
      "3      /players/a/abdelal01.html  ...  0.750  2.7   5.7   8.4  2.3   1.4  0.9   \n",
      "4      /players/a/abdelal01.html  ...  0.760  3.6   5.8   9.4  0.5   0.6  0.7   \n",
      "...                          ...  ...    ...  ...   ...   ...  ...   ...  ...   \n",
      "26669  /players/s/shayoma01.html  ...    NaN  0.0  10.8  10.8  3.6   0.0  0.0   \n",
      "26670  /players/m/martije02.html  ...    NaN  0.0   3.3   3.3  3.3   3.3  0.0   \n",
      "26671  /players/h/howarwi01.html  ...    NaN  0.0   5.5   5.5  2.8   0.0  0.0   \n",
      "26672  /players/v/vincega01.html  ...    NaN  0.0   2.6   2.6  2.6   0.9  0.0   \n",
      "26673  /players/b/boldema01.html  ...    NaN  0.0  24.0  24.0  0.0  12.0  0.0   \n",
      "\n",
      "       tov    pf   pts  \n",
      "0      2.7   4.8  16.8  \n",
      "1      2.5   5.1  16.7  \n",
      "2      2.7   5.2  15.9  \n",
      "3      2.9   5.4  14.5  \n",
      "4      2.6   5.2  16.1  \n",
      "...    ...   ...   ...  \n",
      "26669  3.6   0.0  10.8  \n",
      "26670  0.0   0.0   6.5  \n",
      "26671  2.8   2.8   0.0  \n",
      "26672  0.0   1.8  10.5  \n",
      "26673  0.0  12.0   0.0  \n",
      "\n",
      "[26674 rows x 40 columns]>\n"
     ]
    }
   ],
   "source": [
    "print(merged_df.head)"
   ]
  },
  {
   "cell_type": "code",
   "execution_count": 6,
   "id": "df81b2f0-dfa9-4963-9d32-cf681168bfcf",
   "metadata": {},
   "outputs": [
    {
     "name": "stdout",
     "output_type": "stream",
     "text": [
      "Index(['id_players', 'name', 'full_name', 'position', 'height', 'weight',\n",
      "       'birth_date', 'birth_place', 'retired', 'player_url', 'current_team_id',\n",
      "       'teams', 'text', 'id_player_data', 'player_id', 'season', 'total_games',\n",
      "       'games_started', 'minutes_played', 'fg', 'fga', 'fgp', 'fg3', 'fg3a',\n",
      "       'fg3p', 'fg2', 'fg2a', 'fg2p', 'ft', 'fta', 'ftp', 'orb', 'drb', 'trb',\n",
      "       'ast', 'stl', 'blk', 'tov', 'pf', 'pts'],\n",
      "      dtype='object')\n"
     ]
    }
   ],
   "source": [
    "print(merged_df.columns)"
   ]
  },
  {
   "cell_type": "code",
   "execution_count": 7,
   "id": "c5dce912-915a-436c-be1e-37da3c4d31e0",
   "metadata": {},
   "outputs": [],
   "source": [
    "merged_df = pd.merge(merged_df, teams, how='left', left_on='current_team_id', right_on='team_id')"
   ]
  },
  {
   "cell_type": "code",
   "execution_count": 9,
   "id": "4217a38b-123c-4a8e-9795-7947dc2601dc",
   "metadata": {},
   "outputs": [
    {
     "name": "stdout",
     "output_type": "stream",
     "text": [
      "Index(['id_players', 'name', 'full_name', 'position', 'height', 'weight',\n",
      "       'birth_date', 'birth_place', 'retired', 'player_url', 'current_team_id',\n",
      "       'teams', 'text', 'id_player_data', 'player_id', 'season',\n",
      "       'total_games_x', 'games_started', 'minutes_played', 'fg', 'fga', 'fgp',\n",
      "       'fg3', 'fg3a', 'fg3p', 'fg2', 'fg2a', 'fg2p', 'ft', 'fta', 'ftp', 'orb',\n",
      "       'drb', 'trb', 'ast', 'stl', 'blk', 'tov', 'pf', 'pts', 'team_id',\n",
      "       'team_name', 'short_name', 'years', 'total_games_y', 'total_wins',\n",
      "       'total_losses', 'win_loss_percentage', 'champions', 'other_names',\n",
      "       'link', 'active'],\n",
      "      dtype='object')\n"
     ]
    }
   ],
   "source": [
    "print(merged_df.columns)"
   ]
  },
  {
   "cell_type": "markdown",
   "id": "e2fde8e9-986c-43f1-82d9-b5bd82ad7454",
   "metadata": {},
   "source": [
    "Task 2"
   ]
  },
  {
   "cell_type": "code",
   "execution_count": 10,
   "id": "929d8ed3-3b47-4305-9104-79657b99656f",
   "metadata": {},
   "outputs": [],
   "source": [
    "imputer = SimpleImputer(strategy='mean')\n",
    "merged_df[['games_started','minutes_played','fg','fga','fg3p','fg3','fg3a','fg2','fg2a', 'fg2p', 'ft','fta','orb', 'drb', 'trb', 'ast', 'stl', 'blk', 'tov', 'pf', 'pts']] = imputer.fit_transform(merged_df[['games_started','minutes_played','fg','fga','fg3p','fg3','fg3a','fg2','fg2a', 'fg2p', 'ft','fta','orb', 'drb', 'trb', 'ast', 'stl', 'blk', 'tov', 'pf', 'pts']])\n",
    "merged_df = merged_df.dropna(subset=['current_team_id'])"
   ]
  },
  {
   "cell_type": "code",
   "execution_count": 11,
   "id": "c520164d-9d7b-43fc-9dc5-f6acbcb2a0f9",
   "metadata": {},
   "outputs": [
    {
     "name": "stdout",
     "output_type": "stream",
     "text": [
      "       id_players             name                full_name position height  \\\n",
      "152            23     Steven Adams      Steven Funaki Adams        C   6-11   \n",
      "153            23     Steven Adams      Steven Funaki Adams        C   6-11   \n",
      "154            23     Steven Adams      Steven Funaki Adams        C   6-11   \n",
      "155            23     Steven Adams      Steven Funaki Adams        C   6-11   \n",
      "156            23     Steven Adams      Steven Funaki Adams        C   6-11   \n",
      "...           ...              ...                      ...      ...    ...   \n",
      "26669        4814    Marial Shayok            Marial Shayok        G    6-5   \n",
      "26670        4817  Jeremiah Martin          Jeremiah Martin       PG    6-3   \n",
      "26671        4818   William Howard           William Howard        F    6-8   \n",
      "26672        4819     Gabe Vincent   Gabriel Nnamdi Vincent       PG    6-3   \n",
      "26673        4820   Marques Bolden   Marques Terrell Bolden        C   6-11   \n",
      "\n",
      "       weight       birth_date           birth_place  retired  \\\n",
      "152     265.0     July 20 1993  Rotorua, New Zealand    False   \n",
      "153     265.0     July 20 1993  Rotorua, New Zealand    False   \n",
      "154     265.0     July 20 1993  Rotorua, New Zealand    False   \n",
      "155     265.0     July 20 1993  Rotorua, New Zealand    False   \n",
      "156     265.0     July 20 1993  Rotorua, New Zealand    False   \n",
      "...       ...              ...                   ...      ...   \n",
      "26669   196.0     July 26 1995        Ottawa, Canada    False   \n",
      "26670   184.0  January 19 1996    Memphis, Tennessee    False   \n",
      "26671   205.0  October 25 1993    Montbrison, France    False   \n",
      "26672   200.0     June 14 1996   Modesto, California    False   \n",
      "26673   245.0    April 17 1998         Dallas, Texas    False   \n",
      "\n",
      "                      player_url  ...  short_name years total_games_y  \\\n",
      "152    /players/a/adamsst01.html  ...         OKC  53.0        4271.0   \n",
      "153    /players/a/adamsst01.html  ...         OKC  53.0        4271.0   \n",
      "154    /players/a/adamsst01.html  ...         OKC  53.0        4271.0   \n",
      "155    /players/a/adamsst01.html  ...         OKC  53.0        4271.0   \n",
      "156    /players/a/adamsst01.html  ...         OKC  53.0        4271.0   \n",
      "...                          ...  ...         ...   ...           ...   \n",
      "26669  /players/s/shayoma01.html  ...         UTA  46.0        3696.0   \n",
      "26670  /players/m/martije02.html  ...         NJN  53.0        4276.0   \n",
      "26671  /players/h/howarwi01.html  ...         HOU  53.0        4271.0   \n",
      "26672  /players/v/vincega01.html  ...         MIA  32.0        2549.0   \n",
      "26673  /players/b/boldema01.html  ...         CLE  50.0        4024.0   \n",
      "\n",
      "       total_wins  total_losses win_loss_percentage  champions  \\\n",
      "152        2316.0        1955.0               0.542        1.0   \n",
      "153        2316.0        1955.0               0.542        1.0   \n",
      "154        2316.0        1955.0               0.542        1.0   \n",
      "155        2316.0        1955.0               0.542        1.0   \n",
      "156        2316.0        1955.0               0.542        1.0   \n",
      "...           ...           ...                 ...        ...   \n",
      "26669      2000.0        1696.0               0.541        0.0   \n",
      "26670      1849.0        2427.0               0.432        2.0   \n",
      "26671      2260.0        2011.0               0.529        2.0   \n",
      "26672      1329.0        1220.0               0.521        3.0   \n",
      "26673      1862.0        2162.0               0.463        1.0   \n",
      "\n",
      "                                             other_names         link  active  \n",
      "152     ['Oklahoma City Thunder', 'Seattle SuperSonics']  /teams/OKC/    True  \n",
      "153     ['Oklahoma City Thunder', 'Seattle SuperSonics']  /teams/OKC/    True  \n",
      "154     ['Oklahoma City Thunder', 'Seattle SuperSonics']  /teams/OKC/    True  \n",
      "155     ['Oklahoma City Thunder', 'Seattle SuperSonics']  /teams/OKC/    True  \n",
      "156     ['Oklahoma City Thunder', 'Seattle SuperSonics']  /teams/OKC/    True  \n",
      "...                                                  ...          ...     ...  \n",
      "26669                  ['Utah Jazz', 'New Orleans Jazz']  /teams/UTA/    True  \n",
      "26670  ['Brooklyn Nets', 'New Jersey Nets', 'New York...  /teams/NJN/    True  \n",
      "26671           ['Houston Rockets', 'San Diego Rockets']  /teams/HOU/    True  \n",
      "26672                                     ['Miami Heat']  /teams/MIA/    True  \n",
      "26673                            ['Cleveland Cavaliers']  /teams/CLE/    True  \n",
      "\n",
      "[2830 rows x 52 columns]\n"
     ]
    }
   ],
   "source": [
    "print(merged_df)"
   ]
  },
  {
   "cell_type": "code",
   "execution_count": null,
   "id": "e6ddec28-358c-4b19-98bd-87131a9714d3",
   "metadata": {},
   "outputs": [],
   "source": []
  }
 ],
 "metadata": {
  "kernelspec": {
   "display_name": "Python 3 (ipykernel)",
   "language": "python",
   "name": "python3"
  },
  "language_info": {
   "codemirror_mode": {
    "name": "ipython",
    "version": 3
   },
   "file_extension": ".py",
   "mimetype": "text/x-python",
   "name": "python",
   "nbconvert_exporter": "python",
   "pygments_lexer": "ipython3",
   "version": "3.11.6"
  }
 },
 "nbformat": 4,
 "nbformat_minor": 5
}
